{
 "cells": [
  {
   "cell_type": "code",
   "execution_count": 3,
   "metadata": {},
   "outputs": [
    {
     "name": "stdout",
     "output_type": "stream",
     "text": [
      "2917\n"
     ]
    }
   ],
   "source": [
    "with open('dana.filtered.out', 'r') as file:\n",
    "    gL = []\n",
    "    for line in file:\n",
    "        line = line.strip().split('\\t')\n",
    "        gL.append(line[0])\n",
    "sing_count = 0\n",
    "sing_list = []\n",
    "for x in set(gL):\n",
    "    if gL.count(x) == 1:\n",
    "        sing_count += 1\n",
    "        sing_list.append(x)\n",
    "print(sing_count)"
   ]
  },
  {
   "cell_type": "code",
   "execution_count": 6,
   "metadata": {
    "scrolled": true
   },
   "outputs": [
    {
     "name": "stdout",
     "output_type": "stream",
     "text": [
      "Fetching gene trees...\n",
      "200 done 25.82 seconds\n",
      "400 done 50.42 seconds\n",
      "600 done 74.88 seconds\n",
      "800 done 98.98 seconds\n",
      "1000 done 124.02 seconds\n",
      "1200 done 149.35 seconds\n",
      "1400 done 172.94 seconds\n",
      "1600 done 197.83 seconds\n",
      "1800 done 221.55 seconds\n",
      "2000 done 244.55 seconds\n",
      "2200 done 269.42 seconds\n",
      "2400 done 295.24 seconds\n",
      "2600 done 322.95 seconds\n",
      "2800 done 351.09 seconds\n",
      "Pruning...\n",
      "200 done 3.5 seconds\n",
      "400 done 7.34 seconds\n",
      "600 done 10.32 seconds\n",
      "800 done 13.31 seconds\n",
      "1000 done 15.52 seconds\n",
      "1200 done 18.91 seconds\n",
      "1400 done 22.24 seconds\n",
      "1600 done 25.41 seconds\n",
      "1800 done 28.13 seconds\n",
      "2000 done 30.91 seconds\n",
      "2200 done 33.44 seconds\n",
      "2400 done 37.94 seconds\n",
      "2600 done 41.5 seconds\n"
     ]
    }
   ],
   "source": [
    "import requests, json, time\n",
    "from ete3 import PhyloTree\n",
    "singTreeList, singTreeListPruned, count, ti = [], [], 0, time.time()\n",
    "noTree = 0\n",
    "print('Fetching gene trees...')\n",
    "for g in sing_list:\n",
    "    url = 'http://rest.ensemblgenomes.org/genetree/member/id/'+ g + '?compara=metazoa;nh_format=display_label_composite;object_type=Translation;'\n",
    "    headers = {'Content-Type':'text/x-nh'}\n",
    "    tree = requests.get(url, headers=headers).text\n",
    "    if \"error\" in tree:\n",
    "        noTree += 1\n",
    "    else:\n",
    "        singTreeList.append(tree)\n",
    "    count += 1\n",
    "    if count % 200 == 0:\n",
    "        print(count, 'done', round(time.time()-ti, 2), 'seconds')\n",
    "print('Pruning...')\n",
    "count, ti = 0, time.time()\n",
    "for i in range(0,len(singTreeList)):\n",
    "    try:\n",
    "        t = PhyloTree(singTreeList[i])\n",
    "    except:\n",
    "        print('tree making failed')\n",
    "        print(singTreeList[i])\n",
    "    pList = []\n",
    "    nodes = ['Dere', 'Dyak', 'Dsec', 'Dsim', 'Dmel', 'Dana', 'Dpse']\n",
    "    for n in nodes:\n",
    "        for node in t.traverse():\n",
    "            if n in node.name:\n",
    "                 pList.append(node.name)\n",
    "    try:\n",
    "        t.prune(pList, preserve_branch_length=True)\n",
    "    except:\n",
    "        print('pruning failed')\n",
    "        print(t)\n",
    "    singTreeListPruned.append(t)\n",
    "    count += 1\n",
    "    if count % 200 == 0:\n",
    "        print(count, 'done', round(time.time()-ti,2), 'seconds')"
   ]
  },
  {
   "cell_type": "code",
   "execution_count": 11,
   "metadata": {},
   "outputs": [
    {
     "name": "stdout",
     "output_type": "stream",
     "text": [
      "251\n"
     ]
    }
   ],
   "source": [
    "singTreeListPrunedPseudo, noPseudo = [], 0\n",
    "for tree in singTreeListPruned:\n",
    "    pseudo = False\n",
    "    for node in tree.traverse():\n",
    "        if 'Dpse' in node.name:\n",
    "            pseudo = True\n",
    "    if pseudo == True:\n",
    "        singTreeListPrunedPseudo.append(tree)\n",
    "    else:\n",
    "        noPseudo += 1\n",
    "print(noPseudo)"
   ]
  },
  {
   "cell_type": "code",
   "execution_count": 12,
   "metadata": {
    "collapsed": true
   },
   "outputs": [],
   "source": [
    "singTreeOneEach, singTreeMulti = [], []\n",
    "for tree in singTreeListPrunedPseudo:\n",
    "    Pseudo, Ana = 0,0\n",
    "    for node in tree.traverse():\n",
    "        if 'Dpse' in node.name:\n",
    "            Pseudo += 1\n",
    "        if 'Dana' in node.name:\n",
    "            Ana += 1\n",
    "    if Ana == 1 and Pseudo == 1:\n",
    "        singTreeOneEach.append(tree)\n",
    "    else:\n",
    "        singTreeMulti.append(tree)"
   ]
  },
  {
   "cell_type": "code",
   "execution_count": 49,
   "metadata": {
    "collapsed": true
   },
   "outputs": [],
   "source": [
    "top_dict = {}\n",
    "for i in range(0, len(singTreeMulti)):\n",
    "    top = singTreeMulti[i].get_topology_id(attr='species')\n",
    "    try:\n",
    "        top_dict[top].append(i)\n",
    "    except KeyError:\n",
    "        top_dict[top] = [i]"
   ]
  },
  {
   "cell_type": "code",
   "execution_count": 45,
   "metadata": {
    "collapsed": true
   },
   "outputs": [],
   "source": [
    "def get_species(name):\n",
    "    return(name[-4:])\n",
    "for tree in singTreeMulti:\n",
    "    \n",
    "    for n in tree.traverse():\n",
    "        n.set_species_naming_function(get_species)\n",
    "\n",
    "#     sp = n.name[-4:]\n",
    "#     n.add_feature('species', sp)"
   ]
  },
  {
   "cell_type": "code",
   "execution_count": 40,
   "metadata": {},
   "outputs": [
    {
     "data": {
      "text/plain": [
       "['_PhyloNode__get_speciation_trees_recursive',\n",
       " '__add__',\n",
       " '__and__',\n",
       " '__bool__',\n",
       " '__class__',\n",
       " '__contains__',\n",
       " '__delattr__',\n",
       " '__dict__',\n",
       " '__dir__',\n",
       " '__doc__',\n",
       " '__eq__',\n",
       " '__format__',\n",
       " '__ge__',\n",
       " '__getattribute__',\n",
       " '__gt__',\n",
       " '__hash__',\n",
       " '__init__',\n",
       " '__iter__',\n",
       " '__le__',\n",
       " '__len__',\n",
       " '__lt__',\n",
       " '__module__',\n",
       " '__ne__',\n",
       " '__new__',\n",
       " '__nonzero__',\n",
       " '__reduce__',\n",
       " '__reduce_ex__',\n",
       " '__repr__',\n",
       " '__setattr__',\n",
       " '__sizeof__',\n",
       " '__str__',\n",
       " '__subclasshook__',\n",
       " '__weakref__',\n",
       " '_asciiArt',\n",
       " '_children',\n",
       " '_diff',\n",
       " '_dist',\n",
       " '_get_children',\n",
       " '_get_dist',\n",
       " '_get_face_areas',\n",
       " '_get_farthest_and_closest_leaves',\n",
       " '_get_species',\n",
       " '_get_style',\n",
       " '_get_support',\n",
       " '_get_up',\n",
       " '_img_style',\n",
       " '_iter_descendants_levelorder',\n",
       " '_iter_descendants_postorder',\n",
       " '_iter_descendants_preorder',\n",
       " '_name',\n",
       " '_set_children',\n",
       " '_set_dist',\n",
       " '_set_face_areas',\n",
       " '_set_species',\n",
       " '_set_style',\n",
       " '_set_support',\n",
       " '_set_up',\n",
       " '_species',\n",
       " '_speciesFunction',\n",
       " '_support',\n",
       " '_up',\n",
       " 'add_child',\n",
       " 'add_face',\n",
       " 'add_feature',\n",
       " 'add_features',\n",
       " 'add_sister',\n",
       " 'annotate_ncbi_taxa',\n",
       " 'check_monophyly',\n",
       " 'children',\n",
       " 'collapse_lineage_specific_expansions',\n",
       " 'compare',\n",
       " 'convert_to_ultrametric',\n",
       " 'copy',\n",
       " 'del_feature',\n",
       " 'delete',\n",
       " 'describe',\n",
       " 'detach',\n",
       " 'dist',\n",
       " 'expand_polytomies',\n",
       " 'faces',\n",
       " 'features',\n",
       " 'from_parent_child_table',\n",
       " 'from_skbio',\n",
       " 'get_age',\n",
       " 'get_age_balanced_outgroup',\n",
       " 'get_ancestors',\n",
       " 'get_ascii',\n",
       " 'get_cached_content',\n",
       " 'get_children',\n",
       " 'get_closest_leaf',\n",
       " 'get_common_ancestor',\n",
       " 'get_descendant_evol_events',\n",
       " 'get_descendants',\n",
       " 'get_distance',\n",
       " 'get_edges',\n",
       " 'get_farthest_leaf',\n",
       " 'get_farthest_node',\n",
       " 'get_farthest_oldest_leaf',\n",
       " 'get_farthest_oldest_node',\n",
       " 'get_leaf_names',\n",
       " 'get_leaves',\n",
       " 'get_leaves_by_name',\n",
       " 'get_midpoint_outgroup',\n",
       " 'get_monophyletic',\n",
       " 'get_my_evol_events',\n",
       " 'get_sisters',\n",
       " 'get_speciation_trees',\n",
       " 'get_species',\n",
       " 'get_topology_id',\n",
       " 'get_tree_root',\n",
       " 'img_style',\n",
       " 'is_leaf',\n",
       " 'is_root',\n",
       " 'iter_ancestors',\n",
       " 'iter_descendants',\n",
       " 'iter_edges',\n",
       " 'iter_leaf_names',\n",
       " 'iter_leaves',\n",
       " 'iter_prepostorder',\n",
       " 'iter_search_nodes',\n",
       " 'iter_species',\n",
       " 'ladderize',\n",
       " 'link_to_alignment',\n",
       " 'name',\n",
       " 'ncbi_compare',\n",
       " 'phonehome',\n",
       " 'populate',\n",
       " 'prune',\n",
       " 'reconcile',\n",
       " 'remove_child',\n",
       " 'remove_sister',\n",
       " 'render',\n",
       " 'resolve_polytomy',\n",
       " 'robinson_foulds',\n",
       " 'search_nodes',\n",
       " 'set_outgroup',\n",
       " 'set_species_naming_function',\n",
       " 'set_style',\n",
       " 'show',\n",
       " 'sort_descendants',\n",
       " 'species',\n",
       " 'split_by_dups',\n",
       " 'standardize',\n",
       " 'support',\n",
       " 'swap_children',\n",
       " 'traverse',\n",
       " 'unroot',\n",
       " 'up',\n",
       " 'write']"
      ]
     },
     "execution_count": 40,
     "metadata": {},
     "output_type": "execute_result"
    }
   ],
   "source": [
    "dir(test)"
   ]
  },
  {
   "cell_type": "code",
   "execution_count": 51,
   "metadata": {},
   "outputs": [
    {
     "data": {
      "text/plain": [
       "152"
      ]
     },
     "execution_count": 51,
     "metadata": {},
     "output_type": "execute_result"
    }
   ],
   "source": [
    "len(singTreeMulti)"
   ]
  },
  {
   "cell_type": "code",
   "execution_count": 53,
   "metadata": {
    "collapsed": true
   },
   "outputs": [],
   "source": [
    "id_list = []\n",
    "for key in top_dict:\n",
    "    id_list.append(key)"
   ]
  },
  {
   "cell_type": "code",
   "execution_count": 201,
   "metadata": {},
   "outputs": [
    {
     "ename": "IndexError",
     "evalue": "list index out of range",
     "output_type": "error",
     "traceback": [
      "\u001b[0;31m---------------------------------------------------------------------------\u001b[0m",
      "\u001b[0;31mIndexError\u001b[0m                                Traceback (most recent call last)",
      "\u001b[0;32m<ipython-input-201-b93a987dd639>\u001b[0m in \u001b[0;36m<module>\u001b[0;34m()\u001b[0m\n\u001b[0;32m----> 1\u001b[0;31m \u001b[0msingTreeMulti\u001b[0m\u001b[0;34m[\u001b[0m\u001b[0mtop_dict\u001b[0m\u001b[0;34m[\u001b[0m\u001b[0mid_list\u001b[0m\u001b[0;34m[\u001b[0m\u001b[0;36m70\u001b[0m\u001b[0;34m]\u001b[0m\u001b[0;34m]\u001b[0m\u001b[0;34m[\u001b[0m\u001b[0;36m0\u001b[0m\u001b[0;34m]\u001b[0m\u001b[0;34m]\u001b[0m\u001b[0;34m.\u001b[0m\u001b[0mshow\u001b[0m\u001b[0;34m(\u001b[0m\u001b[0;34m)\u001b[0m\u001b[0;34m\u001b[0m\u001b[0m\n\u001b[0m",
      "\u001b[0;31mIndexError\u001b[0m: list index out of range"
     ]
    }
   ],
   "source": [
    "singTreeMulti[top_dict[id_list[70]][0]].show()"
   ]
  },
  {
   "cell_type": "code",
   "execution_count": 57,
   "metadata": {
    "collapsed": true
   },
   "outputs": [],
   "source": [
    "res_list = []"
   ]
  },
  {
   "cell_type": "code",
   "execution_count": 200,
   "metadata": {
    "collapsed": true
   },
   "outputs": [],
   "source": [
    "res_list.append('Weird')"
   ]
  },
  {
   "cell_type": "code",
   "execution_count": 211,
   "metadata": {
    "collapsed": true
   },
   "outputs": [],
   "source": [
    "maybe_list = []\n",
    "for top_id in id_list:\n",
    "    if res_list[id_list.index(top_id)] == 'Yes' or res_list[id_list.index(top_id)] == 'Weird':\n",
    "        maybe_list.append(top_id)"
   ]
  },
  {
   "cell_type": "code",
   "execution_count": 213,
   "metadata": {},
   "outputs": [
    {
     "data": {
      "text/plain": [
       "19"
      ]
     },
     "execution_count": 213,
     "metadata": {},
     "output_type": "execute_result"
    }
   ],
   "source": [
    "len(maybe_list)"
   ]
  },
  {
   "cell_type": "code",
   "execution_count": 215,
   "metadata": {
    "collapsed": true
   },
   "outputs": [],
   "source": [
    "ex_list = []\n",
    "for top_id in id_list:\n",
    "    if res_list[id_list.index(top_id)] == 'No':\n",
    "        ex_list.append(top_id)\n",
    "with open('excluded_multi_topologies.txt', 'w') as file:\n",
    "    for x in ex_list:\n",
    "        file.write(x + '\\n')"
   ]
  },
  {
   "cell_type": "code",
   "execution_count": 217,
   "metadata": {
    "collapsed": true
   },
   "outputs": [],
   "source": [
    "singTreeMultiMaybe = []\n",
    "for tree in singTreeMulti:\n",
    "    if tree.get_topology_id(attr='species') in maybe_list:\n",
    "        singTreeMultiMaybe.append(tree)"
   ]
  },
  {
   "cell_type": "code",
   "execution_count": 218,
   "metadata": {
    "collapsed": true
   },
   "outputs": [],
   "source": [
    "for tree in singTreeOneEach:\n",
    "    \n",
    "    for n in tree.traverse():\n",
    "        n.set_species_naming_function(get_species)"
   ]
  },
  {
   "cell_type": "code",
   "execution_count": 219,
   "metadata": {},
   "outputs": [
    {
     "name": "stdout",
     "output_type": "stream",
     "text": [
      "179\n"
     ]
    }
   ],
   "source": [
    "top_dict_one_each = {}\n",
    "for i in range(0, len(singTreeOneEach)):\n",
    "    top = singTreeOneEach[i].get_topology_id(attr='species')\n",
    "    try:\n",
    "        top_dict_one_each[top].append(i)\n",
    "    except KeyError:\n",
    "        top_dict_one_each[top] = [i]\n",
    "print(len(top_dict_one_each))"
   ]
  },
  {
   "cell_type": "code",
   "execution_count": 262,
   "metadata": {
    "collapsed": true
   },
   "outputs": [],
   "source": [
    "singTreeMultiMaybe[7].show()"
   ]
  },
  {
   "cell_type": "code",
   "execution_count": 227,
   "metadata": {
    "collapsed": true
   },
   "outputs": [],
   "source": [
    "finalTreeList = []"
   ]
  },
  {
   "cell_type": "code",
   "execution_count": 333,
   "metadata": {},
   "outputs": [
    {
     "name": "stdout",
     "output_type": "stream",
     "text": [
      "\n",
      "            /-DyakGE11385_FBpp0256395_Dyak\n",
      "         /-|\n",
      "        |   \\-DereGG19859_FBpp0138405_Dere\n",
      "      /-|\n",
      "     |  |      /-DsecGM11763_FBpp0193240_Dsec\n",
      "     |  |   /-|\n",
      "   /-|   \\-|   \\-DsimGD24896_FBpp0223298_Dsim\n",
      "  |  |     |\n",
      "  |  |      \\-lov_FBpp0303264_Dmel\n",
      "--|  |\n",
      "  |   \\-DanaGF11509_FBpp0347040_Dana\n",
      "  |\n",
      "   \\-DpseGA30490_FBpp0308192_Dpse\n"
     ]
    }
   ],
   "source": [
    "# manually looking at trees to divide up\n",
    "tree = singTreeMultiMaybe[15] #15 was the last index done\n",
    "node = tree.search_nodes(name = \"DpseGA30490_FBpp0308192_Dpse\")[0]\n",
    "det = node.get_common_ancestor(tree.search_nodes(name = \"DereGG19859_FBpp0138405_Dere\")[0])\n",
    "det.detach()\n",
    "print(det)"
   ]
  },
  {
   "cell_type": "code",
   "execution_count": 334,
   "metadata": {
    "collapsed": true
   },
   "outputs": [],
   "source": [
    "finalTreeList.append(det)"
   ]
  },
  {
   "cell_type": "code",
   "execution_count": 299,
   "metadata": {
    "collapsed": true
   },
   "outputs": [],
   "source": [
    "notTrustedList.append(singTreeMultiMaybe[14])"
   ]
  },
  {
   "cell_type": "code",
   "execution_count": 352,
   "metadata": {
    "scrolled": false
   },
   "outputs": [
    {
     "name": "stdout",
     "output_type": "stream",
     "text": [
      "\n",
      "                                 /-DsecGM20503_FBpp0201980_Dsec\n",
      "                              /-|\n",
      "                           /-|   \\-Dsimlola_FBpp0326119_Dsim\n",
      "                          |  |\n",
      "                        /-|   \\-lola_FBpp0309831_Dmel\n",
      "                       |  |\n",
      "                     /-|   \\-DyakGE13086_FBpp0364001_Dyak\n",
      "                    |  |\n",
      "                  /-|   \\-DereGG22728_FBpp0367010_Dere\n",
      "                 |  |\n",
      "               /-|   \\-DanaGF11096_FBpp0348111_Dana\n",
      "              |  |\n",
      "         /- /-|   \\-DpseGA30442_FBpp0335721_Dpse\n",
      "        |     |\n",
      "        |     |   /-DpseGA31686_FBpp0330359_Dpse\n",
      "      /-|      \\-|\n",
      "     |  |         \\-DpseGA25769_FBpp0333863_Dpse\n",
      "     |  |\n",
      "     |   \\-DsecGM11014_FBpp0192491_Dsec\n",
      "     |\n",
      "     |                           /-DsimGD16767_FBpp0313503_Dsim\n",
      "     |                        /-|\n",
      "     |                     /-|   \\-DsecGM12450_FBpp0193927_Dsec\n",
      "     |                    |  |\n",
      "     |                  /-|   \\-CG3726_FBpp0309797_Dmel\n",
      "     |                 |  |\n",
      "     |                 |  |   /-DereGG18801_FBpp0137347_Dere\n",
      "     |               /-|   \\-|\n",
      "   /-|              |  |      \\-DyakGE17563_FBpp0353468_Dyak\n",
      "  |  |            /-|  |\n",
      "  |  |           |  |   \\-DanaGF22080_FBpp0348859_Dana\n",
      "  |  |         /-|  |\n",
      "  |  |        |  |   \\-DpseGA17644_FBpp0331178_Dpse\n",
      "  |  |        |  |\n",
      "  |  |        |   \\-DanaGF19065_FBpp0344495_Dana\n",
      "  |  |        |\n",
      "  |  |      /-|         /-DsimGD13729_FBpp0323949_Dsim\n",
      "  |  |     |  |      /-|\n",
      "  |  |     |  |     |   \\-DsecGM14532_FBpp0196009_Dsec\n",
      "  |  |     |  |   /-|\n",
      "  |  |     |  |  |  |      /-DereGG14906_FBpp0366520_Dere\n",
      "  |  |     |  |  |  |   /-|\n",
      "  |   \\- /-|   \\-|   \\-|   \\-DyakGE20360_FBpp0361446_Dyak\n",
      "  |        |     |     |\n",
      "  |        |     |      \\-BtbVII_FBpp0298307_Dmel\n",
      "  |        |     |\n",
      "  |        |      \\-DpseGA11032_FBpp0333246_Dpse\n",
      "  |        |\n",
      "  |         \\-DsecGM14240_FBpp0195717_Dsec\n",
      "  |\n",
      "  |               /- /- /-\n",
      "  |            /-|\n",
      "  |           |   \\-\n",
      "  |           |\n",
      "  |           |                  /-Dsecfru_FBpp0200176_Dsec\n",
      "  |           |               /-|\n",
      "  |           |            /-|   \\-Dsimfru_FBpp0318852_Dsim\n",
      "  |         /-|           |  |\n",
      "  |        |  |         /-|   \\-Dyakfru_FBpp0354193_Dyak\n",
      "--|        |  |        |  |\n",
      "  |        |  |      /-|   \\-fru_FBpp0290499_Dmel\n",
      "  |        |  |     |  |\n",
      "  |        |  |   /-|   \\-DanaGF18107_FBpp0349142_Dana\n",
      "  |        |  |  |  |\n",
      "  |        |   \\-|   \\-Dpsefru_FBpp0339007_Dpse\n",
      "  |        |     |\n",
      "  |        |      \\- /-DereGG26160_FBpp0373429_Dere\n",
      "  |        |\n",
      "  |      /-|         /-DyakGE28001_FBpp0360525_Dyak\n",
      "  |     |  |        |\n",
      "  |     |  |        |               /-DsimGD20349_FBpp0314793_Dsim\n",
      "  |     |  |        |            /-|\n",
      "  |     |  |        |         /-|   \\-DsecGM25770_FBpp0207247_Dsec\n",
      "  |     |  |   /- /-|        |  |\n",
      "  |     |  |  |     |      /-|   \\-CG6118_FBpp0112152_Dmel\n",
      "  |     |  |  |     |     |  |\n",
      "  |     |  |  |     |     |  |   /-DereGG20519_FBpp0368186_Dere\n",
      "  |     |  |  |     |   /-|   \\-|\n",
      "  |     |  |  |     |  |  |      \\-DyakGE26375_FBpp0362484_Dyak\n",
      "  |     |   \\-|      \\-|  |\n",
      "  |   /-|     |        |   \\-DanaGF16700_FBpp0351093_Dana\n",
      "  |  |  |     |        |\n",
      "  |  |  |     |         \\-DpseGA19366_FBpp0297327_Dpse\n",
      "  |  |  |     |\n",
      "  |  |  |     |   /-DsecGM16443_FBpp0197920_Dsec\n",
      "  |  |  |     |  |\n",
      "  |  |  |      \\-|      /-DsecGM20511_FBpp0201988_Dsec\n",
      "  |  |  |        |   /-|\n",
      "  |  |  |         \\-|   \\-DsecGM14536_FBpp0196013_Dsec\n",
      "  |  |  |           |\n",
      "   \\-|  |            \\-DanaGF24269_FBpp0342878_Dana\n",
      "     |  |\n",
      "     |   \\-DpseGA31165_FBpp0337556_Dpse\n",
      "     |\n",
      "     |               /-DsimGD17252_FBpp0215654_Dsim\n",
      "     |            /-|\n",
      "     |         /-|   \\-DsecGM22600_FBpp0204077_Dsec\n",
      "     |        |  |\n",
      "     |      /-|   \\-CG8924_FBpp0073935_Dmel\n",
      "     |     |  |\n",
      "     |     |  |   /-DyakGE17239_FBpp0262249_Dyak\n",
      "      \\- /-|   \\-|\n",
      "           |      \\-DereGG17932_FBpp0136478_Dere\n",
      "           |\n",
      "            \\-DpseGA21412_FBpp0330920_Dpse\n"
     ]
    }
   ],
   "source": [
    "print(singTreeMultiMaybe[15])"
   ]
  },
  {
   "cell_type": "code",
   "execution_count": 362,
   "metadata": {},
   "outputs": [
    {
     "name": "stdout",
     "output_type": "stream",
     "text": [
      "DpseGA23934_FBpp0329174_Dpse DanaGF24852_FBpp0343615_Dana 1.192373\n",
      "DpseGA20928_FBpp0334330_Dpse DanaGF27615_FBpp0348167_Dana 0.6386449999999999\n",
      "DpseGA10760_FBpp0341065_Dpse DanaGF12705_FBpp0346424_Dana 0.309903\n",
      "DpseGA33017_FBpp0329599_Dpse DanaGF28152_FBpp0343745_Dana 0.95478\n",
      "DpseGA13817_FBpp0332868_Dpse DanaGF17203_FBpp0120395_Dana 0.473858\n",
      "DpseGA10575_FBpp0329069_Dpse DanaGF19009_FBpp0350007_Dana 0.256688\n",
      "DpseGA26552_FBpp0329471_Dpse DanaGF18734_FBpp0343043_Dana 0.277708\n",
      "DpseGA24988_FBpp0336309_Dpse DanaGF12927_FBpp0346064_Dana 0.15546\n",
      "DpseGA13817_FBpp0332868_Dpse DanaGF17203_FBpp0120395_Dana 0.473858\n",
      "DpseGA19085_FBpp0334840_Dpse DanaGF10336_FBpp0113528_Dana 0.27106800000000003\n",
      "DpseGA19161_FBpp0280114_Dpse DanaGF14376_FBpp0117568_Dana 0.606086\n",
      "DpseGA18777_FBpp0335092_Dpse DanaGF21941_FBpp0125133_Dana 0.46107200000000004\n",
      "DpseGA16409_FBpp0280130_Dpse DanaGF15341_FBpp0118533_Dana 0.444771\n",
      "DpseGA16410_FBpp0280129_Dpse DanaGF15340_FBpp0118532_Dana 0.553123\n",
      "DpseGA10454_FBpp0335143_Dpse DanaGF25116_FBpp0350157_Dana 0.31082699999999996\n",
      "DpseGr32a_FBpp0280671_Dpse DanaGF15642_FBpp0118834_Dana 0.24163400000000002\n",
      "DpseGr68a_FBpp0329708_Dpse DanaGF25287_FBpp0128479_Dana 0.406941\n",
      "DpseGA18701_FBpp0282111_Dpse DanaGF18732_FBpp0121924_Dana 0.168466\n",
      "DpseGA31746_FBpp0331353_Dpse DanaGF12796_FBpp0346711_Dana 1.986994\n",
      "DpseGA16697_FBpp0287017_Dpse DanaGF10955_FBpp0347384_Dana 0.257966\n",
      "Dpsetk_FBpp0339513_Dpse DanaGF22979_FBpp0347280_Dana 0.127749\n",
      "DpseGA19096_FBpp0276669_Dpse DanaGF12279_FBpp0115471_Dana 0.157767\n",
      "DpseGA22724_FBpp0336617_Dpse DanaGF22164_FBpp0342454_Dana 0.25699700000000003\n",
      "DpseGA17171_FBpp0337116_Dpse DanaGF14766_FBpp0349916_Dana 0.12840600000000002\n",
      "DpseGA26473_FBpp0340346_Dpse DanaGF22079_FBpp0341748_Dana 0.176334\n",
      "DpseGA16056_FBpp0282066_Dpse DanaGF18449_FBpp0121641_Dana 0.168528\n",
      "DpseGA30094_FBpp0293771_Dpse DanaGF18944_FBpp0351298_Dana 0.239052\n",
      "DpseGA20197_FBpp0339394_Dpse DanaGF11582_FBpp0347487_Dana 0.231377\n",
      "Dpsechinmo_FBpp0338199_Dpse DanaGF15850_FBpp0119042_Dana 0.253223\n",
      "DpseGA30490_FBpp0308192_Dpse DanaGF11509_FBpp0347040_Dana 0.15442999999999998\n"
     ]
    }
   ],
   "source": [
    "for x in finalTreeList:\n",
    "    test = x\n",
    "    finalTreeList.index(x)\n",
    "    p_list, a_list = [],[]\n",
    "    for n in test.traverse():\n",
    "        if n.species == 'Dpse':\n",
    "            p_list.append(n)\n",
    "        elif n.species == 'Dana':\n",
    "            a_list.append(n)\n",
    "    for n1 in p_list:\n",
    "        for n2 in a_list:\n",
    "            print(n1.name, n2.name, test.get_distance(n1,n2))"
   ]
  },
  {
   "cell_type": "code",
   "execution_count": 365,
   "metadata": {
    "collapsed": true
   },
   "outputs": [],
   "source": [
    "finalTreeList[7].show()"
   ]
  },
  {
   "cell_type": "code",
   "execution_count": 358,
   "metadata": {},
   "outputs": [
    {
     "name": "stdout",
     "output_type": "stream",
     "text": [
      "\n",
      "                  /-DsimGD10469_FBpp0327434_Dsim\n",
      "               /-|\n",
      "            /-|   \\-DsecGM20944_FBpp0202421_Dsec\n",
      "           |  |\n",
      "         /-|   \\-pwn_FBpp0304734_Dmel\n",
      "        |  |\n",
      "      /-|   \\-DyakGE19119_FBpp0352845_Dyak\n",
      "     |  |\n",
      "   /-|   \\-DereGG23271_FBpp0366361_Dere\n",
      "  |  |\n",
      "--|   \\-DanaGF12705_FBpp0346424_Dana\n",
      "  |\n",
      "   \\-DpseGA10760_FBpp0341065_Dpse\n"
     ]
    }
   ],
   "source": [
    "print(finalTreeList[2])"
   ]
  },
  {
   "cell_type": "code",
   "execution_count": null,
   "metadata": {
    "collapsed": true
   },
   "outputs": [],
   "source": []
  }
 ],
 "metadata": {
  "kernelspec": {
   "display_name": "Python [default]",
   "language": "python",
   "name": "python3"
  },
  "language_info": {
   "codemirror_mode": {
    "name": "ipython",
    "version": 3
   },
   "file_extension": ".py",
   "mimetype": "text/x-python",
   "name": "python",
   "nbconvert_exporter": "python",
   "pygments_lexer": "ipython3",
   "version": "3.5.3"
  }
 },
 "nbformat": 4,
 "nbformat_minor": 2
}
