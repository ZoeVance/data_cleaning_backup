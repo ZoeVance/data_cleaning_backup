{
 "cells": [
  {
   "cell_type": "code",
   "execution_count": null,
   "metadata": {},
   "outputs": [],
   "source": [
    "with open('dana.filtered.out', 'r') as file:\n",
    "    gL = []\n",
    "    for line in file:\n",
    "        line = line.strip().split('\\t')\n",
    "        gL.append(line[0])\n",
    "sing_count = 0\n",
    "sing_list = []\n",
    "for x in set(gL):\n",
    "    if gL.count(x) == 1:\n",
    "        sing_count += 1\n",
    "        sing_list.append(x)\n",
    "print(sing_count)"
   ]
  },
  {
   "cell_type": "code",
   "execution_count": null,
   "metadata": {
    "scrolled": true
   },
   "outputs": [],
   "source": [
    "import requests, json, time\n",
    "singTreeList, singTreeListPruned, count, ti = [], [], 0, time.time()\n",
    "noTree = 0\n",
    "print('Fetching gene trees...')\n",
    "for g in sing_list:\n",
    "    url = 'http://rest.ensemblgenomes.org/genetree/member/id/'+ g + '?compara=metazoa;nh_format=display_label_composite;object_type=Translation;'\n",
    "    headers = {'Content-Type':'text/x-nh'}\n",
    "    tree = requests.get(url, headers=headers).text\n",
    "    if \"error\" in tree:\n",
    "        noTree += 1\n",
    "    else:\n",
    "        singTreeList.append(tree)\n",
    "    count += 1\n",
    "    if count % 200 == 0:\n",
    "        print(count, 'done', round(time.time()-ti, 2), 'seconds')\n",
    "print('Pruning...')\n",
    "count, ti = 0, time.time()\n",
    "for i in range(0,len(singTreeList)):\n",
    "    try:\n",
    "        t = PhyloTree(singTreeList[i])\n",
    "    except:\n",
    "        print('tree making failed')\n",
    "        print(singTreeList[i])\n",
    "    pList = []\n",
    "    nodes = ['Dere', 'Dyak', 'Dsec', 'Dsim', 'Dmel', 'Dana', 'Dpse', 'Dper']\n",
    "    for n in nodes:\n",
    "        for node in t.traverse():\n",
    "            if n in node.name:\n",
    "                 pList.append(node.name)\n",
    "    try:\n",
    "        t.prune(pList)\n",
    "    except:\n",
    "        print('pruning failed')\n",
    "        print(t)\n",
    "    singTreeListPruned.append(t)\n",
    "    count += 1\n",
    "    if count % 200 == 0:\n",
    "        print(count, 'done', round(time.time()-ti,2), 'seconds')"
   ]
  },
  {
   "cell_type": "code",
   "execution_count": null,
   "metadata": {},
   "outputs": [],
   "source": [
    "singTreeListPrunedPseudo, noPseudo = [], 0\n",
    "for tree in singTreeListPruned:\n",
    "    pseudo = False\n",
    "    for node in tree.traverse():\n",
    "        if 'Dpse' in node.name:\n",
    "            pseudo = True\n",
    "    if pseudo == True:\n",
    "        singTreeListPrunedPseudo.append(tree)\n",
    "    else:\n",
    "        noPseudo += 1\n",
    "print(noPseudo)"
   ]
  },
  {
   "cell_type": "code",
   "execution_count": null,
   "metadata": {},
   "outputs": [],
   "source": [
    "singTreeOneEach, singTreeMulti = [], []\n",
    "for tree in singTreeListPrunedPseudo:\n",
    "    Pseudo, Ana = 0,0\n",
    "    for node in tree.traverse():\n",
    "        if 'Dpse' in node.name:\n",
    "            Pseudo += 1\n",
    "        if 'Dana' in node.name:\n",
    "            Ana += 1\n",
    "    if Ana == 1 and Pseudo == 1:\n",
    "        singTreeOneEach.append(tree)\n",
    "    else:\n",
    "        singTreeMulti.append(tree)"
   ]
  },
  {
   "cell_type": "code",
   "execution_count": null,
   "metadata": {},
   "outputs": [],
   "source": [
    "len(singTreeMulti)"
   ]
  },
  {
   "cell_type": "code",
   "execution_count": null,
   "metadata": {},
   "outputs": [],
   "source": [
    "len(singTreeOneEach)"
   ]
  },
  {
   "cell_type": "code",
   "execution_count": null,
   "metadata": {},
   "outputs": [],
   "source": [
    "len(singTreeListPrunedPseudo)"
   ]
  },
  {
   "cell_type": "code",
   "execution_count": null,
   "metadata": {},
   "outputs": [],
   "source": [
    "singTreeMulti[150].show()"
   ]
  },
  {
   "cell_type": "code",
   "execution_count": null,
   "metadata": {
    "collapsed": true
   },
   "outputs": [],
   "source": []
  }
 ],
 "metadata": {
  "kernelspec": {
   "display_name": "Python [default]",
   "language": "python",
   "name": "python3"
  },
  "language_info": {
   "codemirror_mode": {
    "name": "ipython",
    "version": 3
   },
   "file_extension": ".py",
   "mimetype": "text/x-python",
   "name": "python",
   "nbconvert_exporter": "python",
   "pygments_lexer": "ipython3",
   "version": "3.5.3"
  }
 },
 "nbformat": 4,
 "nbformat_minor": 2
}
