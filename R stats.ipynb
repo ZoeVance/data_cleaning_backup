{
 "cells": [
  {
   "cell_type": "code",
   "execution_count": 52,
   "metadata": {},
   "outputs": [],
   "source": [
    "#correlation matrix\n",
    "library(FactoMineR)\n",
    "library(RSQLite)\n",
    "drv = SQLite()\n",
    "conn = dbConnect(drv, dbname = './database')\n",
    "# #getting max exp for genes where dev expression is highest, then bind to results for not dev expression\n",
    "result <- dbGetQuery(conn, 'SELECT \n",
    "                              gene_features.id, \n",
    "                              gene_features.gLength,\n",
    "                              gene_features.cds_len,  \n",
    "                              gene_features.unique_domains, \n",
    "                              gene_features.domains, \n",
    "                              gene_features.motif_number, \n",
    "                              gene_features.gc3, \n",
    "                              gene_features.exp, \n",
    "                              gene_features.specificity,\n",
    "                              gene_features.trans_count,\n",
    "                              gene_features.intron_count,\n",
    "                              gene_features.intron_length,\n",
    "                              gene_features.avg_intron,\n",
    "                              dn_ds,\n",
    "                              dup_type\n",
    "                            FROM \n",
    "                              gene_features\n",
    "                            INNER JOIN \n",
    "                              macaque_paralogs \n",
    "                            ON \n",
    "                              gene_features.id == macaque_paralogs.id\n",
    "                            WHERE \n",
    "                              macaque_paralogs.dn_ds \n",
    "                              AND macaque_paralogs.dn_ds < 10\n",
    "                              AND Dev == \"No\"\n",
    "                              AND (dup_type == \"WGD\" OR dup_type == \"SSD\")')[,-1]\n",
    "\n",
    "extra <- dbGetQuery(conn, 'SELECT \n",
    "                            gene_features.id, \n",
    "                            gene_features.gLength,\n",
    "                            gene_features.cds_len, \n",
    "                            gene_features.unique_domains, \n",
    "                            gene_features.domains, \n",
    "                            gene_features.motif_number,  \n",
    "                            gene_features.gc3, \n",
    "                            gene_features.dev_exp, \n",
    "                            gene_features.specificity,\n",
    "                            gene_features.trans_count,\n",
    "                            gene_features.intron_count,\n",
    "                            gene_features.intron_length,\n",
    "                            gene_features.avg_intron,\n",
    "                            dn_ds,\n",
    "                            dup_type\n",
    "                           FROM \n",
    "                            gene_features\n",
    "                           INNER JOIN \n",
    "                             macaque_paralogs \n",
    "                            ON \n",
    "                             gene_features.id == macaque_paralogs.id\n",
    "                           WHERE \n",
    "                             macaque_paralogs.dn_ds \n",
    "                             AND macaque_paralogs.dn_ds < 10\n",
    "                             AND Dev == \"Yes\"\n",
    "                             AND (dup_type == \"WGD\" OR dup_type == \"SSD\")')[,-1]\n",
    "names(extra)[7] <- 'exp'\n",
    "\n",
    "result <- rbind(result,extra)\n",
    "\n",
    "\n",
    "\n",
    "\n",
    "result <- na.omit(result)\n",
    "library(\"Hmisc\")\n",
    "res2 <- rcorr(as.matrix(result[,-14]))\n",
    "corr <- res2$r\n",
    "pval <- res2$P\n",
    "\n",
    "write.csv(corr, file= 'corr.csv')\n",
    "write.csv(pval, file= 'corr_pval.csv')\n",
    "\n",
    "\n",
    "# for (i in 1:length(names(result)))\n",
    "# {\n",
    "#     for (j in 1:length(names(result)))\n",
    "#     {\n",
    "#         cor = cor.test(result[,i], result[,j], method = 'pearson')\n",
    "#         print(names(result[i]))\n",
    "#         print(names(result[j]))\n",
    "#         print(cor$p.value)\n",
    "#         print(cor$estimate['cor'])\n",
    "#     }\n",
    "# }"
   ]
  },
  {
   "cell_type": "code",
   "execution_count": 53,
   "metadata": {},
   "outputs": [
    {
     "data": {
      "text/html": [
       "<strong>pdf:</strong> 2"
      ],
      "text/latex": [
       "\\textbf{pdf:} 2"
      ],
      "text/markdown": [
       "**pdf:** 2"
      ],
      "text/plain": [
       "pdf \n",
       "  2 "
      ]
     },
     "metadata": {},
     "output_type": "display_data"
    }
   ],
   "source": [
    "corr_results <- result[,c(1:4,10:12)]\n",
    "#PCA\n",
    "png('tester.png', width = 1000, height = 500)\n",
    "pca_res <- PCA(corr_results, graph = F)\n",
    "plot(pca_res)\n",
    "# pca_res$eig\n",
    "# pca_res$var$cor\n",
    "dev.off()"
   ]
  },
  {
   "cell_type": "code",
   "execution_count": 54,
   "metadata": {},
   "outputs": [],
   "source": [
    "PCA1 <- pca_res$ind$coord[,1]\n",
    "\n",
    "PCA2 <- pca_res$ind$coord[,2]\n",
    "rc <- rcorr(A,B)"
   ]
  },
  {
   "cell_type": "code",
   "execution_count": 55,
   "metadata": {
    "collapsed": true
   },
   "outputs": [],
   "source": [
    "non_corr <- result[,c(5:9,13,14)]"
   ]
  },
  {
   "cell_type": "code",
   "execution_count": 56,
   "metadata": {},
   "outputs": [],
   "source": [
    "final_df <- cbind(non_corr, PCA1, PCA2)\n",
    "# glm"
   ]
  },
  {
   "cell_type": "code",
   "execution_count": 58,
   "metadata": {},
   "outputs": [],
   "source": [
    "for(i in 1:nrow(final_df))\n",
    "{\n",
    "    if(final_df[i,]['dup_type'] == 'WGD')\n",
    "    {\n",
    "        final_df[i,]['dup_type'] <- 1\n",
    "    }\n",
    "    if(final_df[i,]['dup_type'] == 'SSD')\n",
    "    {\n",
    "        final_df[i,]['dup_type'] <- 0\n",
    "    }\n",
    "}"
   ]
  },
  {
   "cell_type": "code",
   "execution_count": 190,
   "metadata": {},
   "outputs": [],
   "source": [
    "model <- lm(dup_type ~ exp, data = final_df)"
   ]
  },
  {
   "cell_type": "code",
   "execution_count": 191,
   "metadata": {},
   "outputs": [
    {
     "data": {
      "text/html": [
       "13199.2154370972"
      ],
      "text/latex": [
       "13199.2154370972"
      ],
      "text/markdown": [
       "13199.2154370972"
      ],
      "text/plain": [
       "[1] 13199.22"
      ]
     },
     "metadata": {},
     "output_type": "display_data"
    }
   ],
   "source": [
    "AIC(model)"
   ]
  },
  {
   "cell_type": "code",
   "execution_count": 193,
   "metadata": {},
   "outputs": [],
   "source": [
    "s <- summary(model)"
   ]
  },
  {
   "cell_type": "code",
   "execution_count": 194,
   "metadata": {},
   "outputs": [
    {
     "name": "stdout",
     "output_type": "stream",
     "text": [
      "[1] \"(Intercept)\"\n",
      "[1] \"exp\"\n"
     ]
    }
   ],
   "source": [
    "for(i in 1:length(s$coefficients[,'Pr(>|t|)']))\n",
    "{\n",
    "    if(s$coefficients[,'Pr(>|t|)'][i] < 0.05)\n",
    "    {\n",
    "        print(row.names(s$coefficients)[i])\n",
    "    }\n",
    "}\n"
   ]
  },
  {
   "cell_type": "code",
   "execution_count": 195,
   "metadata": {},
   "outputs": [
    {
     "data": {
      "text/html": [
       "&lt;NA&gt;"
      ],
      "text/latex": [
       "<NA>"
      ],
      "text/markdown": [
       "&lt;NA&gt;"
      ],
      "text/plain": [
       "[1] NA"
      ]
     },
     "metadata": {},
     "output_type": "display_data"
    }
   ],
   "source": [
    "s$coefficients['Estimate']"
   ]
  },
  {
   "cell_type": "code",
   "execution_count": 196,
   "metadata": {},
   "outputs": [
    {
     "data": {
      "text/html": [
       "<strong>NA:</strong> &lt;NA&gt;"
      ],
      "text/latex": [
       "\\textbf{NA:} <NA>"
      ],
      "text/markdown": [
       "**NA:** &lt;NA&gt;"
      ],
      "text/plain": [
       "<NA> \n",
       "  NA "
      ]
     },
     "metadata": {},
     "output_type": "display_data"
    }
   ],
   "source": [
    "s$coefficients[,'Estimate']['dn_ds']"
   ]
  },
  {
   "cell_type": "code",
   "execution_count": 197,
   "metadata": {},
   "outputs": [
    {
     "data": {
      "text/html": [
       "<strong>value:</strong> 0"
      ],
      "text/latex": [
       "\\textbf{value:} 0"
      ],
      "text/markdown": [
       "**value:** 0"
      ],
      "text/plain": [
       "value \n",
       "    0 "
      ]
     },
     "metadata": {},
     "output_type": "display_data"
    }
   ],
   "source": [
    "model_p"
   ]
  },
  {
   "cell_type": "code",
   "execution_count": 198,
   "metadata": {},
   "outputs": [
    {
     "data": {
      "text/html": [
       "<strong>dn_ds:</strong> -0.894678964120016"
      ],
      "text/latex": [
       "\\textbf{dn\\textbackslash{}\\_ds:} -0.894678964120016"
      ],
      "text/markdown": [
       "**dn_ds:** -0.894678964120016"
      ],
      "text/plain": [
       "    dn_ds \n",
       "-0.894679 "
      ]
     },
     "metadata": {},
     "output_type": "display_data"
    }
   ],
   "source": [
    "t_value"
   ]
  },
  {
   "cell_type": "code",
   "execution_count": 199,
   "metadata": {},
   "outputs": [
    {
     "data": {
      "text/html": [
       "<strong>dn_ds:</strong> 0.0790763973391798"
      ],
      "text/latex": [
       "\\textbf{dn\\textbackslash{}\\_ds:} 0.0790763973391798"
      ],
      "text/markdown": [
       "**dn_ds:** 0.0790763973391798"
      ],
      "text/plain": [
       "    dn_ds \n",
       "0.0790764 "
      ]
     },
     "metadata": {},
     "output_type": "display_data"
    }
   ],
   "source": [
    "std.error"
   ]
  },
  {
   "cell_type": "code",
   "execution_count": 200,
   "metadata": {},
   "outputs": [],
   "source": [
    "train <- final_df[1:5000,]\n",
    "test <- final_df[5001:nrow(final_df),]\n",
    "model <- lm(dup_type ~ exp, data = train)"
   ]
  },
  {
   "cell_type": "code",
   "execution_count": 201,
   "metadata": {},
   "outputs": [],
   "source": [
    "testing <- predict(model, test)"
   ]
  },
  {
   "cell_type": "code",
   "execution_count": 202,
   "metadata": {},
   "outputs": [],
   "source": [
    "RSS <- c(crossprod(model$residuals))\n",
    "MSE <- RSS / length(model$residuals)\n",
    "RMSE <- sqrt(MSE)"
   ]
  },
  {
   "cell_type": "code",
   "execution_count": 203,
   "metadata": {},
   "outputs": [
    {
     "name": "stdout",
     "output_type": "stream",
     "text": [
      "[1] 0.4990619\n"
     ]
    }
   ],
   "source": [
    "print(RMSE)"
   ]
  },
  {
   "cell_type": "code",
   "execution_count": null,
   "metadata": {
    "collapsed": true
   },
   "outputs": [],
   "source": []
  }
 ],
 "metadata": {
  "anaconda-cloud": {},
  "kernelspec": {
   "display_name": "R",
   "language": "R",
   "name": "ir"
  },
  "language_info": {
   "codemirror_mode": "r",
   "file_extension": ".r",
   "mimetype": "text/x-r-source",
   "name": "R",
   "pygments_lexer": "r",
   "version": "3.3.1"
  }
 },
 "nbformat": 4,
 "nbformat_minor": 1
}
