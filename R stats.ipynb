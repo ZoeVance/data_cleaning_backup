{
 "cells": [
  {
   "cell_type": "code",
   "execution_count": 53,
   "metadata": {},
   "outputs": [],
   "source": [
    "#correlation matrix\n",
    "library(FactoMineR)\n",
    "library(RSQLite)\n",
    "drv = SQLite()\n",
    "conn = dbConnect(drv, dbname = './database')\n",
    "# #getting max exp for genes where dev expression is highest, then bind to results for not dev expression\n",
    "result <- dbGetQuery(conn, 'SELECT \n",
    "                              gene_features.id, \n",
    "                              gene_features.gLength,\n",
    "                              gene_features.cds_len,  \n",
    "                              gene_features.unique_domains, \n",
    "                              gene_features.domains, \n",
    "                              gene_features.motif_number_1k, \n",
    "                              gene_features.gc3, \n",
    "                              gene_features.max_exp,\n",
    "                              gene_features.med_exp,\n",
    "                              gene_features.specificity,\n",
    "                              gene_features.trans_count,\n",
    "                              gene_features.intron_count,\n",
    "                              gene_features.intron_length,\n",
    "                              gene_features.avg_intron,\n",
    "                              dn_ds,\n",
    "                              dup_type\n",
    "                            FROM \n",
    "                              gene_features\n",
    "                            INNER JOIN \n",
    "                              macaque_paralogs \n",
    "                            ON \n",
    "                              gene_features.id == macaque_paralogs.id\n",
    "                            WHERE \n",
    "                              NOT macaque_paralogs.dn_ds IS NULL\n",
    "                              AND macaque_paralogs.dn_ds < 10\n",
    "                              AND (dup_type == \"WGD\" OR dup_type == \"SSD\")')[,-1]\n",
    "\n",
    "result <- na.omit(result)\n",
    "result$gLength <- log10(result$gLength)\n",
    "result$max_exp <- log10(result$max_exp)\n",
    "result$gc3 <- 100 * result$gc3\n",
    "library(\"Hmisc\")\n",
    "res2 <- rcorr(as.matrix(result[,-15]), type = 'pearson')\n",
    "corr <- res2$r\n",
    "pval <- res2$P\n",
    "\n",
    "write.csv(corr, file= 'corr.csv')\n",
    "write.csv(pval, file= 'corr_pval.csv')\n",
    "\n",
    "res3 <- rcorr(as.matrix(result[,-15]), type = 'spearman')\n",
    "corr2 <- res3$r\n",
    "pval2 <- res3$P\n",
    "\n",
    "write.csv(corr2, file= 'corr_spearman.csv')\n",
    "write.csv(pval2, file= 'corr_pval_spearman.csv')\n",
    "\n",
    "# for (i in 1:length(names(result)))\n",
    "# {\n",
    "#     for (j in 1:length(names(result)))\n",
    "#     {\n",
    "#         cor = cor.test(result[,i], result[,j], method = 'pearson')\n",
    "#         print(names(result[i]))\n",
    "#         print(names(result[j]))\n",
    "#         print(cor$p.value)\n",
    "#         print(cor$estimate['cor'])\n",
    "#     }\n",
    "# }"
   ]
  },
  {
   "cell_type": "code",
   "execution_count": 54,
   "metadata": {},
   "outputs": [
    {
     "data": {
      "text/html": [
       "<strong>pdf:</strong> 2"
      ],
      "text/latex": [
       "\\textbf{pdf:} 2"
      ],
      "text/markdown": [
       "**pdf:** 2"
      ],
      "text/plain": [
       "pdf \n",
       "  2 "
      ]
     },
     "metadata": {},
     "output_type": "display_data"
    }
   ],
   "source": [
    "corr_results <- result[,c(1:4,8,9,11:13)]\n",
    "#PCA\n",
    "png('tester.png', width = 1000, height = 500)\n",
    "pca_res <- PCA(corr_results, graph = F)\n",
    "plot(pca_res)\n",
    "# pca_res$eig\n",
    "# pca_res$var$cor\n",
    "dev.off()"
   ]
  },
  {
   "cell_type": "code",
   "execution_count": 55,
   "metadata": {
    "collapsed": true
   },
   "outputs": [],
   "source": [
    "PCA1 <- pca_res$ind$coord[,1]\n",
    "\n",
    "PCA2 <- pca_res$ind$coord[,2]\n",
    "\n",
    "PCA3 <- pca_res$ind$coord[,3]"
   ]
  },
  {
   "cell_type": "code",
   "execution_count": 56,
   "metadata": {},
   "outputs": [
    {
     "data": {
      "text/html": [
       "<table>\n",
       "<thead><tr><th></th><th scope=col>eigenvalue</th><th scope=col>percentage of variance</th><th scope=col>cumulative percentage of variance</th></tr></thead>\n",
       "<tbody>\n",
       "\t<tr><th scope=row>comp 1</th><td>3.3916356</td><td>37.684840</td><td> 37.68484</td></tr>\n",
       "\t<tr><th scope=row>comp 2</th><td>1.7126392</td><td>19.029324</td><td> 56.71416</td></tr>\n",
       "\t<tr><th scope=row>comp 3</th><td>1.1403051</td><td>12.670057</td><td> 69.38422</td></tr>\n",
       "\t<tr><th scope=row>comp 4</th><td>0.8423408</td><td> 9.359342</td><td> 78.74356</td></tr>\n",
       "\t<tr><th scope=row>comp 5</th><td>0.7300701</td><td> 8.111890</td><td> 86.85545</td></tr>\n",
       "\t<tr><th scope=row>comp 6</th><td>0.4409285</td><td> 4.899206</td><td> 91.75466</td></tr>\n",
       "\t<tr><th scope=row>comp 7</th><td>0.2925747</td><td> 3.250830</td><td> 95.00549</td></tr>\n",
       "\t<tr><th scope=row>comp 8</th><td>0.2848858</td><td> 3.165398</td><td> 98.17089</td></tr>\n",
       "\t<tr><th scope=row>comp 9</th><td>0.1646202</td><td> 1.829113</td><td>100.00000</td></tr>\n",
       "</tbody>\n",
       "</table>\n"
      ],
      "text/latex": [
       "\\begin{tabular}{r|lll}\n",
       "  & eigenvalue & percentage of variance & cumulative percentage of variance\\\\\n",
       "\\hline\n",
       "\tcomp 1 & 3.3916356 & 37.684840 &  37.68484\\\\\n",
       "\tcomp 2 & 1.7126392 & 19.029324 &  56.71416\\\\\n",
       "\tcomp 3 & 1.1403051 & 12.670057 &  69.38422\\\\\n",
       "\tcomp 4 & 0.8423408 &  9.359342 &  78.74356\\\\\n",
       "\tcomp 5 & 0.7300701 &  8.111890 &  86.85545\\\\\n",
       "\tcomp 6 & 0.4409285 &  4.899206 &  91.75466\\\\\n",
       "\tcomp 7 & 0.2925747 &  3.250830 &  95.00549\\\\\n",
       "\tcomp 8 & 0.2848858 &  3.165398 &  98.17089\\\\\n",
       "\tcomp 9 & 0.1646202 &  1.829113 & 100.00000\\\\\n",
       "\\end{tabular}\n"
      ],
      "text/markdown": [
       "\n",
       "| <!--/--> | eigenvalue | percentage of variance | cumulative percentage of variance | \n",
       "|---|---|---|---|---|---|---|---|---|\n",
       "| comp 1 | 3.3916356 | 37.684840 |  37.68484 | \n",
       "| comp 2 | 1.7126392 | 19.029324 |  56.71416 | \n",
       "| comp 3 | 1.1403051 | 12.670057 |  69.38422 | \n",
       "| comp 4 | 0.8423408 |  9.359342 |  78.74356 | \n",
       "| comp 5 | 0.7300701 |  8.111890 |  86.85545 | \n",
       "| comp 6 | 0.4409285 |  4.899206 |  91.75466 | \n",
       "| comp 7 | 0.2925747 |  3.250830 |  95.00549 | \n",
       "| comp 8 | 0.2848858 |  3.165398 |  98.17089 | \n",
       "| comp 9 | 0.1646202 |  1.829113 | 100.00000 | \n",
       "\n",
       "\n"
      ],
      "text/plain": [
       "       eigenvalue percentage of variance cumulative percentage of variance\n",
       "comp 1 3.3916356  37.684840               37.68484                        \n",
       "comp 2 1.7126392  19.029324               56.71416                        \n",
       "comp 3 1.1403051  12.670057               69.38422                        \n",
       "comp 4 0.8423408   9.359342               78.74356                        \n",
       "comp 5 0.7300701   8.111890               86.85545                        \n",
       "comp 6 0.4409285   4.899206               91.75466                        \n",
       "comp 7 0.2925747   3.250830               95.00549                        \n",
       "comp 8 0.2848858   3.165398               98.17089                        \n",
       "comp 9 0.1646202   1.829113              100.00000                        "
      ]
     },
     "metadata": {},
     "output_type": "display_data"
    },
    {
     "data": {
      "text/html": [
       "<table>\n",
       "<thead><tr><th></th><th scope=col>Dim.1</th><th scope=col>Dim.2</th><th scope=col>Dim.3</th><th scope=col>Dim.4</th><th scope=col>Dim.5</th></tr></thead>\n",
       "<tbody>\n",
       "\t<tr><th scope=row>gLength</th><td> 0.77683380 </td><td> 0.39729110 </td><td>-0.07849481 </td><td>-0.078700613</td><td>-0.16017692 </td></tr>\n",
       "\t<tr><th scope=row>cds_len</th><td> 0.78287731 </td><td>-0.31549844 </td><td> 0.05088270 </td><td>-0.009844906</td><td>-0.31618282 </td></tr>\n",
       "\t<tr><th scope=row>unique_domains</th><td> 0.62785165 </td><td>-0.42911308 </td><td> 0.05210603 </td><td> 0.044617626</td><td> 0.48222467 </td></tr>\n",
       "\t<tr><th scope=row>domains</th><td> 0.64147728 </td><td>-0.49578468 </td><td> 0.09211037 </td><td> 0.064152043</td><td> 0.35300266 </td></tr>\n",
       "\t<tr><th scope=row>med_exp</th><td>-0.06352906 </td><td>-0.12668057 </td><td>-0.75604989 </td><td> 0.637383965</td><td>-0.03149820 </td></tr>\n",
       "\t<tr><th scope=row>specificity</th><td>-0.20580925 </td><td>-0.04697256 </td><td> 0.73872311 </td><td> 0.619121782</td><td>-0.12716471 </td></tr>\n",
       "\t<tr><th scope=row>intron_count</th><td> 0.81634759 </td><td>-0.25952283 </td><td>-0.01138565 </td><td> 0.013783279</td><td>-0.39913749 </td></tr>\n",
       "\t<tr><th scope=row>intron_length</th><td> 0.69622761 </td><td> 0.56471420 </td><td> 0.03928018 </td><td> 0.137857923</td><td> 0.04548343 </td></tr>\n",
       "\t<tr><th scope=row>avg_intron</th><td> 0.41476196 </td><td> 0.78791533 </td><td> 0.03687068 </td><td> 0.145529922</td><td> 0.26219824 </td></tr>\n",
       "</tbody>\n",
       "</table>\n"
      ],
      "text/latex": [
       "\\begin{tabular}{r|lllll}\n",
       "  & Dim.1 & Dim.2 & Dim.3 & Dim.4 & Dim.5\\\\\n",
       "\\hline\n",
       "\tgLength &  0.77683380  &  0.39729110  & -0.07849481  & -0.078700613 & -0.16017692 \\\\\n",
       "\tcds\\_len &  0.78287731  & -0.31549844  &  0.05088270  & -0.009844906 & -0.31618282 \\\\\n",
       "\tunique\\_domains &  0.62785165  & -0.42911308  &  0.05210603  &  0.044617626 &  0.48222467 \\\\\n",
       "\tdomains &  0.64147728  & -0.49578468  &  0.09211037  &  0.064152043 &  0.35300266 \\\\\n",
       "\tmed\\_exp & -0.06352906  & -0.12668057  & -0.75604989  &  0.637383965 & -0.03149820 \\\\\n",
       "\tspecificity & -0.20580925  & -0.04697256  &  0.73872311  &  0.619121782 & -0.12716471 \\\\\n",
       "\tintron\\_count &  0.81634759  & -0.25952283  & -0.01138565  &  0.013783279 & -0.39913749 \\\\\n",
       "\tintron\\_length &  0.69622761  &  0.56471420  &  0.03928018  &  0.137857923 &  0.04548343 \\\\\n",
       "\tavg\\_intron &  0.41476196  &  0.78791533  &  0.03687068  &  0.145529922 &  0.26219824 \\\\\n",
       "\\end{tabular}\n"
      ],
      "text/markdown": [
       "\n",
       "| <!--/--> | Dim.1 | Dim.2 | Dim.3 | Dim.4 | Dim.5 | \n",
       "|---|---|---|---|---|---|---|---|---|\n",
       "| gLength |  0.77683380  |  0.39729110  | -0.07849481  | -0.078700613 | -0.16017692  | \n",
       "| cds_len |  0.78287731  | -0.31549844  |  0.05088270  | -0.009844906 | -0.31618282  | \n",
       "| unique_domains |  0.62785165  | -0.42911308  |  0.05210603  |  0.044617626 |  0.48222467  | \n",
       "| domains |  0.64147728  | -0.49578468  |  0.09211037  |  0.064152043 |  0.35300266  | \n",
       "| med_exp | -0.06352906  | -0.12668057  | -0.75604989  |  0.637383965 | -0.03149820  | \n",
       "| specificity | -0.20580925  | -0.04697256  |  0.73872311  |  0.619121782 | -0.12716471  | \n",
       "| intron_count |  0.81634759  | -0.25952283  | -0.01138565  |  0.013783279 | -0.39913749  | \n",
       "| intron_length |  0.69622761  |  0.56471420  |  0.03928018  |  0.137857923 |  0.04548343  | \n",
       "| avg_intron |  0.41476196  |  0.78791533  |  0.03687068  |  0.145529922 |  0.26219824  | \n",
       "\n",
       "\n"
      ],
      "text/plain": [
       "               Dim.1       Dim.2       Dim.3       Dim.4        Dim.5      \n",
       "gLength         0.77683380  0.39729110 -0.07849481 -0.078700613 -0.16017692\n",
       "cds_len         0.78287731 -0.31549844  0.05088270 -0.009844906 -0.31618282\n",
       "unique_domains  0.62785165 -0.42911308  0.05210603  0.044617626  0.48222467\n",
       "domains         0.64147728 -0.49578468  0.09211037  0.064152043  0.35300266\n",
       "med_exp        -0.06352906 -0.12668057 -0.75604989  0.637383965 -0.03149820\n",
       "specificity    -0.20580925 -0.04697256  0.73872311  0.619121782 -0.12716471\n",
       "intron_count    0.81634759 -0.25952283 -0.01138565  0.013783279 -0.39913749\n",
       "intron_length   0.69622761  0.56471420  0.03928018  0.137857923  0.04548343\n",
       "avg_intron      0.41476196  0.78791533  0.03687068  0.145529922  0.26219824"
      ]
     },
     "metadata": {},
     "output_type": "display_data"
    },
    {
     "data": {
      "text/html": [
       "<table>\n",
       "<thead><tr><th></th><th scope=col>Dim.1</th><th scope=col>Dim.2</th><th scope=col>Dim.3</th><th scope=col>Dim.4</th><th scope=col>Dim.5</th></tr></thead>\n",
       "<tbody>\n",
       "\t<tr><th scope=row>gLength</th><td>17.7929126 </td><td> 9.2161983 </td><td> 0.54033216</td><td> 0.73530651</td><td> 3.5142716 </td></tr>\n",
       "\t<tr><th scope=row>cds_len</th><td>18.0708355 </td><td> 5.8120396 </td><td> 0.22704878</td><td> 0.01150629</td><td>13.6934211 </td></tr>\n",
       "\t<tr><th scope=row>unique_domains</th><td>11.6226429 </td><td>10.7517124 </td><td> 0.23809753</td><td> 0.23633339</td><td>31.8518208 </td></tr>\n",
       "\t<tr><th scope=row>domains</th><td>12.1325858 </td><td>14.3522614 </td><td> 0.74403949</td><td> 0.48857716</td><td>17.0683438 </td></tr>\n",
       "\t<tr><th scope=row>med_exp</th><td> 0.1189969 </td><td> 0.9370314 </td><td>50.12793720</td><td>48.22968728</td><td> 0.1358960 </td></tr>\n",
       "\t<tr><th scope=row>specificity</th><td> 1.2488796 </td><td> 0.1288317 </td><td>47.85665003</td><td>45.50554772</td><td> 2.2149741 </td></tr>\n",
       "\t<tr><th scope=row>intron_count</th><td>19.6490269 </td><td> 3.9326498 </td><td> 0.01136827</td><td> 0.02255367</td><td>21.8212924 </td></tr>\n",
       "\t<tr><th scope=row>intron_length</th><td>14.2920098 </td><td>18.6205089 </td><td> 0.13530873</td><td> 2.25618986</td><td> 0.2833621 </td></tr>\n",
       "\t<tr><th scope=row>avg_intron</th><td> 5.0721099 </td><td>36.2487665 </td><td> 0.11921780</td><td> 2.51429813</td><td> 9.4166181 </td></tr>\n",
       "</tbody>\n",
       "</table>\n"
      ],
      "text/latex": [
       "\\begin{tabular}{r|lllll}\n",
       "  & Dim.1 & Dim.2 & Dim.3 & Dim.4 & Dim.5\\\\\n",
       "\\hline\n",
       "\tgLength & 17.7929126  &  9.2161983  &  0.54033216 &  0.73530651 &  3.5142716 \\\\\n",
       "\tcds\\_len & 18.0708355  &  5.8120396  &  0.22704878 &  0.01150629 & 13.6934211 \\\\\n",
       "\tunique\\_domains & 11.6226429  & 10.7517124  &  0.23809753 &  0.23633339 & 31.8518208 \\\\\n",
       "\tdomains & 12.1325858  & 14.3522614  &  0.74403949 &  0.48857716 & 17.0683438 \\\\\n",
       "\tmed\\_exp &  0.1189969  &  0.9370314  & 50.12793720 & 48.22968728 &  0.1358960 \\\\\n",
       "\tspecificity &  1.2488796  &  0.1288317  & 47.85665003 & 45.50554772 &  2.2149741 \\\\\n",
       "\tintron\\_count & 19.6490269  &  3.9326498  &  0.01136827 &  0.02255367 & 21.8212924 \\\\\n",
       "\tintron\\_length & 14.2920098  & 18.6205089  &  0.13530873 &  2.25618986 &  0.2833621 \\\\\n",
       "\tavg\\_intron &  5.0721099  & 36.2487665  &  0.11921780 &  2.51429813 &  9.4166181 \\\\\n",
       "\\end{tabular}\n"
      ],
      "text/markdown": [
       "\n",
       "| <!--/--> | Dim.1 | Dim.2 | Dim.3 | Dim.4 | Dim.5 | \n",
       "|---|---|---|---|---|---|---|---|---|\n",
       "| gLength | 17.7929126  |  9.2161983  |  0.54033216 |  0.73530651 |  3.5142716  | \n",
       "| cds_len | 18.0708355  |  5.8120396  |  0.22704878 |  0.01150629 | 13.6934211  | \n",
       "| unique_domains | 11.6226429  | 10.7517124  |  0.23809753 |  0.23633339 | 31.8518208  | \n",
       "| domains | 12.1325858  | 14.3522614  |  0.74403949 |  0.48857716 | 17.0683438  | \n",
       "| med_exp |  0.1189969  |  0.9370314  | 50.12793720 | 48.22968728 |  0.1358960  | \n",
       "| specificity |  1.2488796  |  0.1288317  | 47.85665003 | 45.50554772 |  2.2149741  | \n",
       "| intron_count | 19.6490269  |  3.9326498  |  0.01136827 |  0.02255367 | 21.8212924  | \n",
       "| intron_length | 14.2920098  | 18.6205089  |  0.13530873 |  2.25618986 |  0.2833621  | \n",
       "| avg_intron |  5.0721099  | 36.2487665  |  0.11921780 |  2.51429813 |  9.4166181  | \n",
       "\n",
       "\n"
      ],
      "text/plain": [
       "               Dim.1      Dim.2      Dim.3       Dim.4       Dim.5     \n",
       "gLength        17.7929126  9.2161983  0.54033216  0.73530651  3.5142716\n",
       "cds_len        18.0708355  5.8120396  0.22704878  0.01150629 13.6934211\n",
       "unique_domains 11.6226429 10.7517124  0.23809753  0.23633339 31.8518208\n",
       "domains        12.1325858 14.3522614  0.74403949  0.48857716 17.0683438\n",
       "med_exp         0.1189969  0.9370314 50.12793720 48.22968728  0.1358960\n",
       "specificity     1.2488796  0.1288317 47.85665003 45.50554772  2.2149741\n",
       "intron_count   19.6490269  3.9326498  0.01136827  0.02255367 21.8212924\n",
       "intron_length  14.2920098 18.6205089  0.13530873  2.25618986  0.2833621\n",
       "avg_intron      5.0721099 36.2487665  0.11921780  2.51429813  9.4166181"
      ]
     },
     "metadata": {},
     "output_type": "display_data"
    },
    {
     "data": {
      "text/html": [
       "500"
      ],
      "text/latex": [
       "500"
      ],
      "text/markdown": [
       "500"
      ],
      "text/plain": [
       "[1] 500"
      ]
     },
     "metadata": {},
     "output_type": "display_data"
    }
   ],
   "source": [
    "pca_res$eig\n",
    "pca_res$var$cor\n",
    "pca_res$var$contrib\n",
    "sum(pca_res$var$contrib)"
   ]
  },
  {
   "cell_type": "code",
   "execution_count": 24,
   "metadata": {},
   "outputs": [
    {
     "data": {
      "text/html": [
       "100"
      ],
      "text/latex": [
       "100"
      ],
      "text/markdown": [
       "100"
      ],
      "text/plain": [
       "[1] 100"
      ]
     },
     "metadata": {},
     "output_type": "display_data"
    }
   ],
   "source": [
    "d <- as.data.frame(pca_res$var$contrib)\n",
    "sum(d$Dim.1)"
   ]
  },
  {
   "cell_type": "code",
   "execution_count": null,
   "metadata": {},
   "outputs": [],
   "source": [
    "non_corr <- result[,c(5:7,10,14,15)]\n",
    "non_corr"
   ]
  },
  {
   "cell_type": "code",
   "execution_count": null,
   "metadata": {},
   "outputs": [],
   "source": [
    "final_df <- cbind(non_corr, PCA1, PCA2, PCA3)\n",
    "final_df"
   ]
  },
  {
   "cell_type": "code",
   "execution_count": 68,
   "metadata": {
    "collapsed": true
   },
   "outputs": [],
   "source": [
    "for(i in 1:nrow(final_df)) #makes 1 and 0 strings for some stupid reason\n",
    "{\n",
    "    if(final_df[i,]['dup_type'] == 'WGD')\n",
    "    {\n",
    "        final_df[i,]['dup_type'] <- 1\n",
    "    }\n",
    "    if(final_df[i,]['dup_type'] == 'SSD')\n",
    "    {\n",
    "        final_df[i,]['dup_type'] <- 0\n",
    "    }\n",
    "}"
   ]
  },
  {
   "cell_type": "code",
   "execution_count": 73,
   "metadata": {
    "collapsed": true
   },
   "outputs": [],
   "source": [
    "final_df$dup_type <- as.numeric(final_df$dup_type)\n",
    "model <- glm(dup_type ~ . , data = train, family = binomial)"
   ]
  },
  {
   "cell_type": "code",
   "execution_count": 74,
   "metadata": {},
   "outputs": [
    {
     "data": {
      "text/plain": [
       "\n",
       "Call:\n",
       "glm(formula = dup_type ~ ., family = binomial, data = train)\n",
       "\n",
       "Deviance Residuals: \n",
       "    Min       1Q   Median       3Q      Max  \n",
       "-3.8949  -1.0736   0.6401   0.9725   2.7008  \n",
       "\n",
       "Coefficients:\n",
       "                  Estimate Std. Error z value Pr(>|z|)    \n",
       "(Intercept)     -0.7267495  0.1638283  -4.436 9.16e-06 ***\n",
       "motif_number_1k  0.0172418  0.0028917   5.963 2.48e-09 ***\n",
       "gc3              0.0200420  0.0019886  10.078  < 2e-16 ***\n",
       "max_exp          0.0790778  0.0509914   1.551    0.121    \n",
       "trans_count     -0.0002535  0.0065636  -0.039    0.969    \n",
       "dn_ds           -1.8086131  0.1407480 -12.850  < 2e-16 ***\n",
       "PCA1             0.2460461  0.0223274  11.020  < 2e-16 ***\n",
       "PCA2             0.3624760  0.0319896  11.331  < 2e-16 ***\n",
       "PCA3            -0.0221078  0.0284627  -0.777    0.437    \n",
       "---\n",
       "Signif. codes:  0 ‘***’ 0.001 ‘**’ 0.01 ‘*’ 0.05 ‘.’ 0.1 ‘ ’ 1\n",
       "\n",
       "(Dispersion parameter for binomial family taken to be 1)\n",
       "\n",
       "    Null deviance: 8166.7  on 5999  degrees of freedom\n",
       "Residual deviance: 7232.9  on 5991  degrees of freedom\n",
       "AIC: 7250.9\n",
       "\n",
       "Number of Fisher Scoring iterations: 4\n"
      ]
     },
     "metadata": {},
     "output_type": "display_data"
    }
   ],
   "source": [
    "summary(model)"
   ]
  },
  {
   "cell_type": "code",
   "execution_count": 194,
   "metadata": {},
   "outputs": [
    {
     "name": "stdout",
     "output_type": "stream",
     "text": [
      "[1] \"(Intercept)\"\n",
      "[1] \"exp\"\n"
     ]
    }
   ],
   "source": [
    "for(i in 1:length(s$coefficients[,'Pr(>|t|)']))\n",
    "{\n",
    "    if(s$coefficients[,'Pr(>|t|)'][i] < 0.05)\n",
    "    {\n",
    "        print(row.names(s$coefficients)[i])\n",
    "    }\n",
    "}\n"
   ]
  },
  {
   "cell_type": "code",
   "execution_count": 114,
   "metadata": {},
   "outputs": [],
   "source": [
    "train <- final_df[1:4000,]\n",
    "test <- final_df[4001:nrow(final_df),]\n",
    "pred <- predict(model2, test, type='response')\n",
    "actual <- test$dup_type\n"
   ]
  },
  {
   "cell_type": "code",
   "execution_count": 113,
   "metadata": {},
   "outputs": [
    {
     "data": {
      "text/plain": [
       "\n",
       "Call:\n",
       "glm(formula = dup_type ~ (dn_ds + PCA1 + PCA2)^2 - PCA1:dn_ds - \n",
       "    PCA1:PCA2, family = binomial, data = train)\n",
       "\n",
       "Deviance Residuals: \n",
       "    Min       1Q   Median       3Q      Max  \n",
       "-3.1938  -1.1623   0.7297   0.9762   2.8771  \n",
       "\n",
       "Coefficients:\n",
       "            Estimate Std. Error z value Pr(>|z|)    \n",
       "(Intercept)  0.98350    0.05337  18.427  < 2e-16 ***\n",
       "dn_ds       -2.32897    0.16423 -14.181  < 2e-16 ***\n",
       "PCA1         0.21107    0.02235   9.445  < 2e-16 ***\n",
       "PCA2         0.19676    0.05463   3.602 0.000316 ***\n",
       "dn_ds:PCA2   0.86677    0.20116   4.309 1.64e-05 ***\n",
       "---\n",
       "Signif. codes:  0 ‘***’ 0.001 ‘**’ 0.01 ‘*’ 0.05 ‘.’ 0.1 ‘ ’ 1\n",
       "\n",
       "(Dispersion parameter for binomial family taken to be 1)\n",
       "\n",
       "    Null deviance: 5453.6  on 3999  degrees of freedom\n",
       "Residual deviance: 4939.4  on 3995  degrees of freedom\n",
       "AIC: 4949.4\n",
       "\n",
       "Number of Fisher Scoring iterations: 4\n"
      ]
     },
     "metadata": {},
     "output_type": "display_data"
    }
   ],
   "source": [
    "model2 <- glm(dup_type ~ (dn_ds + PCA1 + PCA2)^2 -PCA1:dn_ds -PCA1:PCA2, data = train, family = binomial)\n",
    "\n",
    "summary(model2)"
   ]
  },
  {
   "cell_type": "code",
   "execution_count": null,
   "metadata": {},
   "outputs": [],
   "source": [
    "d <- seq(6, 0, -0.01)\n",
    "g <- seq(0.2, 1, length.out = length(d))\n",
    "p1 <- seq(-4, 25, length.out = length(d))\n",
    "p2 <- seq(-18, 17, length.out = length(d))\n",
    "\n",
    "test_df <- data.frame(d,g,p1,p2)\n",
    "names(test_df) <- c('dn_ds', 'gc3', 'PCA1', 'PCA2')\n",
    "test_df[1:200,]"
   ]
  },
  {
   "cell_type": "code",
   "execution_count": 115,
   "metadata": {},
   "outputs": [
    {
     "data": {
      "image/png": "[encoded data removed]",
      "text/plain": [
       "plot without title"
      ]
     },
     "metadata": {},
     "output_type": "display_data"
    }
   ],
   "source": [
    "# y1 <- predict(model, test_df, type=\"response\")\n",
    "# x1 <- seq(1,601)\n",
    "\n",
    "Prob_is_WGD <- pred\n",
    "SSD____WGD <- actual\n",
    "plot(SSD____WGD, Prob_is_WGD)"
   ]
  },
  {
   "cell_type": "code",
   "execution_count": 16,
   "metadata": {},
   "outputs": [
    {
     "data": {
      "image/png": "[encoded data removed]",
      "text/plain": [
       "plot without title"
      ]
     },
     "metadata": {},
     "output_type": "display_data"
    }
   ],
   "source": [
    "plot.new()\n",
    "\n",
    "plot.window(xlim=c(1,601), ylim=c(0,1))\n",
    "axis(1)\n",
    "axis(2)\n",
    "\n",
    "lines(x1,y1)\n",
    "# plot(real_points_x, real_points_y)"
   ]
  },
  {
   "cell_type": "code",
   "execution_count": 1,
   "metadata": {},
   "outputs": [
    {
     "name": "stderr",
     "output_type": "stream",
     "text": [
      "Loading required package: lattice\n",
      "Loading required package: survival\n",
      "Loading required package: Formula\n",
      "Loading required package: ggplot2\n",
      "\n",
      "Attaching package: ‘Hmisc’\n",
      "\n",
      "The following objects are masked from ‘package:base’:\n",
      "\n",
      "    format.pval, round.POSIXt, trunc.POSIXt, units\n",
      "\n"
     ]
    }
   ],
   "source": [
    "library(Hmisc)"
   ]
  },
  {
   "cell_type": "code",
   "execution_count": 80,
   "metadata": {},
   "outputs": [
    {
     "data": {
      "text/html": [
       "9"
      ],
      "text/latex": [
       "9"
      ],
      "text/markdown": [
       "9"
      ],
      "text/plain": [
       "[1] 9"
      ]
     },
     "metadata": {},
     "output_type": "display_data"
    }
   ],
   "source": [
    "length(final_df)"
   ]
  },
  {
   "cell_type": "code",
   "execution_count": 81,
   "metadata": {},
   "outputs": [
    {
     "data": {
      "text/html": [
       "6889"
      ],
      "text/latex": [
       "6889"
      ],
      "text/markdown": [
       "6889"
      ],
      "text/plain": [
       "[1] 6889"
      ]
     },
     "metadata": {},
     "output_type": "display_data"
    }
   ],
   "source": [
    "nrow(final_df)"
   ]
  },
  {
   "cell_type": "code",
   "execution_count": null,
   "metadata": {
    "collapsed": true
   },
   "outputs": [],
   "source": []
  },
  {
   "cell_type": "code",
   "execution_count": 72,
   "metadata": {
    "collapsed": true
   },
   "outputs": [],
   "source": [
    "train <- final_df[1:6000,]\n",
    "test <- final_df[6001:nrow(final_df),]\n"
   ]
  }
 ],
 "metadata": {
  "anaconda-cloud": {},
  "kernelspec": {
   "display_name": "R",
   "language": "R",
   "name": "ir"
  },
  "language_info": {
   "codemirror_mode": "r",
   "file_extension": ".r",
   "mimetype": "text/x-r-source",
   "name": "R",
   "pygments_lexer": "r",
   "version": "3.3.1"
  }
 },
 "nbformat": 4,
 "nbformat_minor": 1
}
